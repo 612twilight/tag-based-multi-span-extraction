{
 "cells": [
  {
   "cell_type": "code",
   "execution_count": 3,
   "metadata": {},
   "outputs": [
    {
     "name": "stderr",
     "output_type": "stream",
     "text": [
      "To use data.metrics please install scikit-learn. See https://scikit-learn.org/stable/index.html\n"
     ]
    }
   ],
   "source": [
    "from analysis.analysis_num_tokens_and_occurrences import get_analysis\n",
    "\n",
    "# If it casues segmentation fault then use:\n",
    "# export OMP_NUM_THREADS=1\n",
    "# export USE_SIMPLE_THREADED_LEVEL3=1\n",
    "import matplotlib.pyplot as plt"
   ]
  },
  {
   "cell_type": "code",
   "execution_count": 4,
   "metadata": {},
   "outputs": [
    {
     "name": "stderr",
     "output_type": "stream",
     "text": [
      "9536it [13:24, 11.85it/s]\n"
     ]
    }
   ],
   "source": [
    "num_gold_tokens_to_stats, num_occurrences_stats = get_analysis(\"../pickle/drop/multi_head_roberta-large_dev.pkl\", \n",
    "                                                               \"analysis/model38_8.jsonl\",\n",
    "                                                              [\"multi_span\"])"
   ]
  },
  {
   "cell_type": "code",
   "execution_count": 5,
   "metadata": {},
   "outputs": [],
   "source": [
    "for num_gold_tokens in num_gold_tokens_to_stats:\n",
    "    stats = num_gold_tokens_to_stats[num_gold_tokens]\n",
    "    for stat in stats:\n",
    "        if stat != 'count':\n",
    "            stats[stat] /= stats['count']"
   ]
  },
  {
   "cell_type": "code",
   "execution_count": 13,
   "metadata": {},
   "outputs": [],
   "source": [
    "for num_occurrences in num_occurrences_stats:\n",
    "    stats = num_occurrences_stats[num_occurrences]\n",
    "    for stat in stats:\n",
    "        if stat != 'count':\n",
    "            stats[stat] /= stats['count']"
   ]
  },
  {
   "cell_type": "code",
   "execution_count": 6,
   "metadata": {},
   "outputs": [
    {
     "data": {
      "image/png": "[encoded data removed]",
      "text/plain": [
       "<Figure size 432x288 with 1 Axes>"
      ]
     },
     "metadata": {
      "needs_background": "light"
     },
     "output_type": "display_data"
    }
   ],
   "source": [
    "x, y = [], []\n",
    "for key in num_gold_tokens_to_stats.keys():\n",
    "    x.append(key)\n",
    "    y.append(num_gold_tokens_to_stats[key]['num_predicted_tokens'])\n",
    "plt.plot(x, y, 'o', color='black')\n",
    "\n",
    "plt.xticks([num_gold_tokens for num_gold_tokens in num_gold_tokens_to_stats])\n",
    "plt.yticks(list(set(round(num_gold_tokens_to_stats[num_gold_tokens]['num_predicted_tokens']) for num_gold_tokens in num_gold_tokens_to_stats)))\n",
    "plt.show()"
   ]
  },
  {
   "cell_type": "code",
   "execution_count": 7,
   "metadata": {},
   "outputs": [
    {
     "data": {
      "text/plain": [
       "[<matplotlib.lines.Line2D at 0x7fdce8e52c10>]"
      ]
     },
     "execution_count": 7,
     "metadata": {},
     "output_type": "execute_result"
    },
    {
     "data": {
      "image/png": "[encoded data removed]",
      "text/plain": [
       "<Figure size 432x288 with 1 Axes>"
      ]
     },
     "metadata": {
      "needs_background": "light"
     },
     "output_type": "display_data"
    }
   ],
   "source": [
    "x, y = [], []\n",
    "for key in num_gold_tokens_to_stats.keys():\n",
    "    x.append(key)\n",
    "    y.append(num_gold_tokens_to_stats[key]['em'])\n",
    "plt.plot(x, y, 'o', color='blue')"
   ]
  },
  {
   "cell_type": "code",
   "execution_count": 8,
   "metadata": {},
   "outputs": [
    {
     "data": {
      "text/plain": [
       "[<matplotlib.lines.Line2D at 0x7fdcf0db44d0>]"
      ]
     },
     "execution_count": 8,
     "metadata": {},
     "output_type": "execute_result"
    },
    {
     "data": {
      "image/png": "[encoded data removed]",
      "text/plain": [
       "<Figure size 432x288 with 1 Axes>"
      ]
     },
     "metadata": {
      "needs_background": "light"
     },
     "output_type": "display_data"
    }
   ],
   "source": [
    "x, y = [], []\n",
    "for key in num_gold_tokens_to_stats.keys():\n",
    "    x.append(key)\n",
    "    y.append(num_gold_tokens_to_stats[key]['f1'])\n",
    "plt.plot(x, y, 'o', color='red')"
   ]
  },
  {
   "cell_type": "code",
   "execution_count": 11,
   "metadata": {},
   "outputs": [
    {
     "name": "stdout",
     "output_type": "stream",
     "text": [
      "1: 1323\n",
      "2: 937\n",
      "3: 983\n",
      "4: 468\n",
      "5: 327\n",
      "6: 125\n",
      "7: 66\n",
      "8: 42\n",
      "9: 14\n",
      "10: 9\n",
      "11: 10\n",
      "12: 1\n",
      "24: 1\n"
     ]
    }
   ],
   "source": [
    "for key in sorted(num_gold_tokens_to_stats.keys()):\n",
    "    print(f\"{key}: {num_gold_tokens_to_stats[key]['count']}\")"
   ]
  },
  {
   "cell_type": "code",
   "execution_count": 12,
   "metadata": {},
   "outputs": [
    {
     "name": "stdout",
     "output_type": "stream",
     "text": [
      "1: 1.1436130007558578\n",
      "2: 2.0789754535752403\n",
      "3: 2.9664292980671414\n",
      "4: 3.876068376068376\n",
      "5: 4.626911314984709\n",
      "6: 5.448\n",
      "7: 6.515151515151516\n",
      "8: 6.857142857142857\n",
      "9: 7.0\n",
      "10: 10.222222222222221\n",
      "11: 9.8\n",
      "12: 12.0\n",
      "24: 1.0\n"
     ]
    }
   ],
   "source": [
    "for key in sorted(num_gold_tokens_to_stats.keys()):\n",
    "    print(f\"{key}: {num_gold_tokens_to_stats[key]['num_predicted_tokens']}\")"
   ]
  },
  {
   "cell_type": "code",
   "execution_count": 14,
   "metadata": {},
   "outputs": [
    {
     "data": {
      "text/plain": [
       "[<matplotlib.lines.Line2D at 0x7fdcf0ff73d0>]"
      ]
     },
     "execution_count": 14,
     "metadata": {},
     "output_type": "execute_result"
    },
    {
     "data": {
      "image/png": "[encoded data removed]",
      "text/plain": [
       "<Figure size 432x288 with 1 Axes>"
      ]
     },
     "metadata": {
      "needs_background": "light"
     },
     "output_type": "display_data"
    }
   ],
   "source": [
    "x, y = [], []\n",
    "for key in num_occurrences_stats.keys():\n",
    "    x.append(key)\n",
    "    y.append(num_occurrences_stats[key]['em'])\n",
    "plt.plot(x, y, 'o', color='blue')"
   ]
  },
  {
   "cell_type": "code",
   "execution_count": 15,
   "metadata": {},
   "outputs": [
    {
     "data": {
      "text/plain": [
       "[<matplotlib.lines.Line2D at 0x7fdcf151a790>]"
      ]
     },
     "execution_count": 15,
     "metadata": {},
     "output_type": "execute_result"
    },
    {
     "data": {
      "image/png": "[encoded data removed]",
      "text/plain": [
       "<Figure size 432x288 with 1 Axes>"
      ]
     },
     "metadata": {
      "needs_background": "light"
     },
     "output_type": "display_data"
    }
   ],
   "source": [
    "x, y = [], []\n",
    "for key in num_occurrences_stats.keys():\n",
    "    x.append(key)\n",
    "    y.append(num_occurrences_stats[key]['f1'])\n",
    "plt.plot(x, y, 'o', color='red')"
   ]
  }
 ],
 "metadata": {
  "kernelspec": {
   "display_name": "Python (myenv)",
   "language": "python",
   "name": "python3"
  },
  "language_info": {
   "codemirror_mode": {
    "name": "ipython",
    "version": 3
   },
   "file_extension": ".py",
   "mimetype": "text/x-python",
   "name": "python",
   "nbconvert_exporter": "python",
   "pygments_lexer": "ipython3",
   "version": "3.7.5"
  }
 },
 "nbformat": 4,
 "nbformat_minor": 2
}